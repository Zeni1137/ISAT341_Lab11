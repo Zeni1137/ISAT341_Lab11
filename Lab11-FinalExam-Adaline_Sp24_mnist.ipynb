{
 "cells": [
  {
   "cell_type": "markdown",
   "id": "23066e37",
   "metadata": {},
   "source": [
    "<center>\n",
    "<font color='green'/><h1 style=\"text-align:center; color:red\"> ISAT 341: Machine Learning and Data Science with Python </h1>\n",
    "\n",
    "<font color='blue'/><h3 style=\"text-align:center; color:blue\">Lab11-Final Exam (Part II) :Implementing an Adaptive Linear Neuron and Gradient Descent in Python</h3>\n",
    "    \n",
    "<h3 style=\"text-align:center; color:blue\";>(Supervised Learning: Classification of the SciKit Learn Digits Dataset) </h3>\n",
    "</center>\n"
   ]
  },
  {
   "cell_type": "markdown",
   "id": "5ccebdca",
   "metadata": {},
   "source": [
    "\n",
    "<img src=\"images/adaline.png\" width =300; height = 300>"
   ]
  },
  {
   "cell_type": "markdown",
   "id": "4fd59d6e",
   "metadata": {},
   "source": [
    "## Objectives\n",
    "* Reuse and modify code from previous labs\n",
    "* Understand and Implement Gradient Descent in Python\n",
    "* Extend the MCP and Rosenblatt Perceptron model developed in Python to include Gradient Descent\n",
    " * Implement this ADAptive LInear NEuron classifier (Adaline) and Gradient Descent in Python\n",
    "* Mathematically Extend the Perceptron Binary Model to a MultiClass Model (Numpy Linear Algebra)\n",
    "* Use the Python Programming Language to Implement Frank Rosenblatt’s perceptron learning rule based on the MCP neuron model.\n",
    "* Use NumPy matrix products and other Numpy features (arrays and methods) to create a subset of handwritten digits\n",
    "* Train the Adaline model for multiclass classification on subset of handwritten digits\n",
    "* Implement a Sigmoid Perceptron Class that includes Gradient Descent developed by  Generative Artificial Intelligence (GenAI) to compare and contrast to our Adaline model.\n",
    "* Use and compare the GenAI Perceptron model to the model built from scratch using  object-oriented python.\n",
    "* Create Predictive Models\n",
    "* Perform Model Evaluation\n",
    "    * Model Score and Accuracy\n",
    "    * Confusion Matrix\n",
    "* Plot the Cost (loss) Function"
   ]
  },
  {
   "cell_type": "markdown",
   "id": "0ad19fce",
   "metadata": {},
   "source": [
    "## <font color='orange'/>Class Adaline with Gradient Descent in Python"
   ]
  },
  {
   "cell_type": "markdown",
   "id": "1d87e81e",
   "metadata": {},
   "source": [
    "As we indicated in Part I, the Perceptron rule and the Adaline rule are very similar. To implement the Adaline learning rule, we only need to take the Perceptron Class that we used earlier and modify the fit method so that the weights are updated by minimizing the cost function by gradient descent. The COMPLETE Python Class for implementing Adaline using gradient descent is:\n",
    "<img src=\"images/class_adaline.png\" width = 600; height = 300>"
   ]
  },
  {
   "cell_type": "markdown",
   "id": "6158f3ab",
   "metadata": {},
   "source": [
    "### <font color = 'green'/>1-TO DO : Carefully enter the code for the Python class AdalineGD in the empty cell below the heading.\n",
    "#### <font color='blue'/>Make sure you examine and understand every line of code in the AdalineGD class after you enter it below"
   ]
  },
  {
   "cell_type": "markdown",
   "id": "43370e6c",
   "metadata": {},
   "source": [
    "### <font color='red'/> class Adaline: <font color='blue'/>Implementing an Adaptive Linear Neuron in Python\n",
    "#### <font color='blue'/> Minimizing cost functions with gradient descent"
   ]
  },
  {
   "cell_type": "code",
   "execution_count": 1,
   "id": "90ee54a4",
   "metadata": {},
   "outputs": [],
   "source": [
    "class AdalineGD(object):\\\n",
    "    \n",
    "    def __init__(self, eta=0.1, n_iter=50, random_state=1):\n",
    "        self.eta = eta\n",
    "        self.n_iter = n_iter\n",
    "        self.random_state = random_state\n",
    "    \n",
    "    def fit(self, X, y):\n",
    "        rgen = np.random.RandomState(self.random_state)\n",
    "        self.w_ = rgen.normal(loc=0.0, scale=0.1, size=1 + X.shape[1])\n",
    "        \n",
    "        self.cost_ = []\n",
    "        \n",
    "        for i in range(self.n_iter):\n",
    "            net_input = self.net_input(X)\n",
    "            output = self.activation(net_input)\n",
    "            errors = (y - output)\n",
    "            self.w_[1:] += self.eta * X.T.dot(errors)\n",
    "            self.w_[0] += self.eta * errors.sum()\n",
    "            cost = (errors**2).sum() / 2.0\n",
    "            self.cost_.append(cost)\n",
    "        return self\n",
    "\n",
    "    def net_input(self, X):\n",
    "        '''Calculate Net Input'''\n",
    "        return np.dot(X, self.w_[1:] + self.w_[0])\n",
    "    \n",
    "    def activation(self, X):\n",
    "        '''Compute Linear activation'''\n",
    "        return X\n",
    "    \n",
    "    def predict(self, X):\n",
    "        '''Return class label after unit step'''\n",
    "        return np.where(self.activation(self.net_input(X))>= 0.0, 1,0)"
   ]
  },
  {
   "cell_type": "markdown",
   "id": "b691f660",
   "metadata": {},
   "source": [
    "<img src= \"images/converge_diverge_models.png\" width=700>\n"
   ]
  },
  {
   "cell_type": "markdown",
   "id": "d0377bc5",
   "metadata": {},
   "source": [
    "### <font color='green'/> Standard imports"
   ]
  },
  {
   "cell_type": "code",
   "execution_count": 2,
   "id": "2a5a2736",
   "metadata": {},
   "outputs": [],
   "source": [
    "# Standard scientific Python imports\n",
    "%matplotlib inline\n",
    "import matplotlib.pyplot as plt\n",
    "import numpy as np\n",
    "import pandas as pd\n",
    "import warnings\n",
    "warnings.filterwarnings(\"ignore\", category=FutureWarning)\n",
    "warnings.filterwarnings(\"ignore\", category=DeprecationWarning)"
   ]
  },
  {
   "cell_type": "markdown",
   "id": "d531a1eb",
   "metadata": {},
   "source": [
    "# <font color='orange'/>Using the MNIST Dataset with the Perceptron Classification Model \n",
    "When one learns how to program, there's a tradition that the first thing you do is print \"Hello World.\" Just like programming has Hello World, machine learning has MNIST.\n",
    "\n",
    "MNIST is a simple computer vision dataset. It consists of images of handwritten digits like these:\n",
    "<center>\n",
    "    <img src=\"images/mnist_image.png\" width=250; height=200>\n",
    "</center>\n",
    "\n",
    "It also includes labels for each image, telling us which digit it is. For example, the labels for the above images are 5, 0, 4, and 1."
   ]
  },
  {
   "cell_type": "markdown",
   "id": "b69279f8",
   "metadata": {},
   "source": [
    "###  <font color='green'/> 2-TO DO: Loading Data\n",
    "Use `Pandas` to load MNIST data into a dataframe. <font color='red'/> Name the dataframe df_mnist. Also display the entire dataset in the second cell."
   ]
  },
  {
   "cell_type": "code",
   "execution_count": 3,
   "id": "b851c773",
   "metadata": {},
   "outputs": [],
   "source": [
    "df_mnist = pd.read_csv('mnist_datasets/mnist_784.csv',  low_memory=False)"
   ]
  },
  {
   "cell_type": "markdown",
   "id": "7e8210b0",
   "metadata": {},
   "source": [
    "###### <font color='orange'/>Code to dispaly the entire data in the dataframe has been provided for you below"
   ]
  },
  {
   "cell_type": "code",
   "execution_count": 4,
   "id": "89995bf1",
   "metadata": {},
   "outputs": [
    {
     "data": {
      "text/html": [
       "<div>\n",
       "<style scoped>\n",
       "    .dataframe tbody tr th:only-of-type {\n",
       "        vertical-align: middle;\n",
       "    }\n",
       "\n",
       "    .dataframe tbody tr th {\n",
       "        vertical-align: top;\n",
       "    }\n",
       "\n",
       "    .dataframe thead th {\n",
       "        text-align: right;\n",
       "    }\n",
       "</style>\n",
       "<table border=\"1\" class=\"dataframe\">\n",
       "  <thead>\n",
       "    <tr style=\"text-align: right;\">\n",
       "      <th></th>\n",
       "      <th>pixel1</th>\n",
       "      <th>pixel2</th>\n",
       "      <th>pixel3</th>\n",
       "      <th>pixel4</th>\n",
       "      <th>pixel5</th>\n",
       "      <th>pixel6</th>\n",
       "      <th>pixel7</th>\n",
       "      <th>pixel8</th>\n",
       "      <th>pixel9</th>\n",
       "      <th>pixel10</th>\n",
       "      <th>...</th>\n",
       "      <th>pixel776</th>\n",
       "      <th>pixel777</th>\n",
       "      <th>pixel778</th>\n",
       "      <th>pixel779</th>\n",
       "      <th>pixel780</th>\n",
       "      <th>pixel781</th>\n",
       "      <th>pixel782</th>\n",
       "      <th>pixel783</th>\n",
       "      <th>pixel784</th>\n",
       "      <th>class</th>\n",
       "    </tr>\n",
       "  </thead>\n",
       "  <tbody>\n",
       "    <tr>\n",
       "      <th>0</th>\n",
       "      <td>0</td>\n",
       "      <td>0</td>\n",
       "      <td>0</td>\n",
       "      <td>0</td>\n",
       "      <td>0</td>\n",
       "      <td>0</td>\n",
       "      <td>0</td>\n",
       "      <td>0</td>\n",
       "      <td>0</td>\n",
       "      <td>0</td>\n",
       "      <td>...</td>\n",
       "      <td>0</td>\n",
       "      <td>0</td>\n",
       "      <td>0</td>\n",
       "      <td>0</td>\n",
       "      <td>0</td>\n",
       "      <td>0</td>\n",
       "      <td>0</td>\n",
       "      <td>0</td>\n",
       "      <td>0</td>\n",
       "      <td>5</td>\n",
       "    </tr>\n",
       "    <tr>\n",
       "      <th>1</th>\n",
       "      <td>0</td>\n",
       "      <td>0</td>\n",
       "      <td>0</td>\n",
       "      <td>0</td>\n",
       "      <td>0</td>\n",
       "      <td>0</td>\n",
       "      <td>0</td>\n",
       "      <td>0</td>\n",
       "      <td>0</td>\n",
       "      <td>0</td>\n",
       "      <td>...</td>\n",
       "      <td>0</td>\n",
       "      <td>0</td>\n",
       "      <td>0</td>\n",
       "      <td>0</td>\n",
       "      <td>0</td>\n",
       "      <td>0</td>\n",
       "      <td>0</td>\n",
       "      <td>0</td>\n",
       "      <td>0</td>\n",
       "      <td>0</td>\n",
       "    </tr>\n",
       "    <tr>\n",
       "      <th>2</th>\n",
       "      <td>0</td>\n",
       "      <td>0</td>\n",
       "      <td>0</td>\n",
       "      <td>0</td>\n",
       "      <td>0</td>\n",
       "      <td>0</td>\n",
       "      <td>0</td>\n",
       "      <td>0</td>\n",
       "      <td>0</td>\n",
       "      <td>0</td>\n",
       "      <td>...</td>\n",
       "      <td>0</td>\n",
       "      <td>0</td>\n",
       "      <td>0</td>\n",
       "      <td>0</td>\n",
       "      <td>0</td>\n",
       "      <td>0</td>\n",
       "      <td>0</td>\n",
       "      <td>0</td>\n",
       "      <td>0</td>\n",
       "      <td>4</td>\n",
       "    </tr>\n",
       "    <tr>\n",
       "      <th>3</th>\n",
       "      <td>0</td>\n",
       "      <td>0</td>\n",
       "      <td>0</td>\n",
       "      <td>0</td>\n",
       "      <td>0</td>\n",
       "      <td>0</td>\n",
       "      <td>0</td>\n",
       "      <td>0</td>\n",
       "      <td>0</td>\n",
       "      <td>0</td>\n",
       "      <td>...</td>\n",
       "      <td>0</td>\n",
       "      <td>0</td>\n",
       "      <td>0</td>\n",
       "      <td>0</td>\n",
       "      <td>0</td>\n",
       "      <td>0</td>\n",
       "      <td>0</td>\n",
       "      <td>0</td>\n",
       "      <td>0</td>\n",
       "      <td>1</td>\n",
       "    </tr>\n",
       "    <tr>\n",
       "      <th>4</th>\n",
       "      <td>0</td>\n",
       "      <td>0</td>\n",
       "      <td>0</td>\n",
       "      <td>0</td>\n",
       "      <td>0</td>\n",
       "      <td>0</td>\n",
       "      <td>0</td>\n",
       "      <td>0</td>\n",
       "      <td>0</td>\n",
       "      <td>0</td>\n",
       "      <td>...</td>\n",
       "      <td>0</td>\n",
       "      <td>0</td>\n",
       "      <td>0</td>\n",
       "      <td>0</td>\n",
       "      <td>0</td>\n",
       "      <td>0</td>\n",
       "      <td>0</td>\n",
       "      <td>0</td>\n",
       "      <td>0</td>\n",
       "      <td>9</td>\n",
       "    </tr>\n",
       "    <tr>\n",
       "      <th>...</th>\n",
       "      <td>...</td>\n",
       "      <td>...</td>\n",
       "      <td>...</td>\n",
       "      <td>...</td>\n",
       "      <td>...</td>\n",
       "      <td>...</td>\n",
       "      <td>...</td>\n",
       "      <td>...</td>\n",
       "      <td>...</td>\n",
       "      <td>...</td>\n",
       "      <td>...</td>\n",
       "      <td>...</td>\n",
       "      <td>...</td>\n",
       "      <td>...</td>\n",
       "      <td>...</td>\n",
       "      <td>...</td>\n",
       "      <td>...</td>\n",
       "      <td>...</td>\n",
       "      <td>...</td>\n",
       "      <td>...</td>\n",
       "      <td>...</td>\n",
       "    </tr>\n",
       "    <tr>\n",
       "      <th>69995</th>\n",
       "      <td>0</td>\n",
       "      <td>0</td>\n",
       "      <td>0</td>\n",
       "      <td>0</td>\n",
       "      <td>0</td>\n",
       "      <td>0</td>\n",
       "      <td>0</td>\n",
       "      <td>0</td>\n",
       "      <td>0</td>\n",
       "      <td>0</td>\n",
       "      <td>...</td>\n",
       "      <td>0</td>\n",
       "      <td>0</td>\n",
       "      <td>0</td>\n",
       "      <td>0</td>\n",
       "      <td>0</td>\n",
       "      <td>0</td>\n",
       "      <td>0</td>\n",
       "      <td>0</td>\n",
       "      <td>0</td>\n",
       "      <td>2</td>\n",
       "    </tr>\n",
       "    <tr>\n",
       "      <th>69996</th>\n",
       "      <td>0</td>\n",
       "      <td>0</td>\n",
       "      <td>0</td>\n",
       "      <td>0</td>\n",
       "      <td>0</td>\n",
       "      <td>0</td>\n",
       "      <td>0</td>\n",
       "      <td>0</td>\n",
       "      <td>0</td>\n",
       "      <td>0</td>\n",
       "      <td>...</td>\n",
       "      <td>0</td>\n",
       "      <td>0</td>\n",
       "      <td>0</td>\n",
       "      <td>0</td>\n",
       "      <td>0</td>\n",
       "      <td>0</td>\n",
       "      <td>0</td>\n",
       "      <td>0</td>\n",
       "      <td>0</td>\n",
       "      <td>3</td>\n",
       "    </tr>\n",
       "    <tr>\n",
       "      <th>69997</th>\n",
       "      <td>0</td>\n",
       "      <td>0</td>\n",
       "      <td>0</td>\n",
       "      <td>0</td>\n",
       "      <td>0</td>\n",
       "      <td>0</td>\n",
       "      <td>0</td>\n",
       "      <td>0</td>\n",
       "      <td>0</td>\n",
       "      <td>0</td>\n",
       "      <td>...</td>\n",
       "      <td>0</td>\n",
       "      <td>0</td>\n",
       "      <td>0</td>\n",
       "      <td>0</td>\n",
       "      <td>0</td>\n",
       "      <td>0</td>\n",
       "      <td>0</td>\n",
       "      <td>0</td>\n",
       "      <td>0</td>\n",
       "      <td>4</td>\n",
       "    </tr>\n",
       "    <tr>\n",
       "      <th>69998</th>\n",
       "      <td>0</td>\n",
       "      <td>0</td>\n",
       "      <td>0</td>\n",
       "      <td>0</td>\n",
       "      <td>0</td>\n",
       "      <td>0</td>\n",
       "      <td>0</td>\n",
       "      <td>0</td>\n",
       "      <td>0</td>\n",
       "      <td>0</td>\n",
       "      <td>...</td>\n",
       "      <td>0</td>\n",
       "      <td>0</td>\n",
       "      <td>0</td>\n",
       "      <td>0</td>\n",
       "      <td>0</td>\n",
       "      <td>0</td>\n",
       "      <td>0</td>\n",
       "      <td>0</td>\n",
       "      <td>0</td>\n",
       "      <td>5</td>\n",
       "    </tr>\n",
       "    <tr>\n",
       "      <th>69999</th>\n",
       "      <td>0</td>\n",
       "      <td>0</td>\n",
       "      <td>0</td>\n",
       "      <td>0</td>\n",
       "      <td>0</td>\n",
       "      <td>0</td>\n",
       "      <td>0</td>\n",
       "      <td>0</td>\n",
       "      <td>0</td>\n",
       "      <td>0</td>\n",
       "      <td>...</td>\n",
       "      <td>0</td>\n",
       "      <td>0</td>\n",
       "      <td>0</td>\n",
       "      <td>0</td>\n",
       "      <td>0</td>\n",
       "      <td>0</td>\n",
       "      <td>0</td>\n",
       "      <td>0</td>\n",
       "      <td>0</td>\n",
       "      <td>6</td>\n",
       "    </tr>\n",
       "  </tbody>\n",
       "</table>\n",
       "<p>70000 rows × 785 columns</p>\n",
       "</div>"
      ],
      "text/plain": [
       "       pixel1  pixel2  pixel3  pixel4  pixel5  pixel6  pixel7  pixel8  pixel9  \\\n",
       "0           0       0       0       0       0       0       0       0       0   \n",
       "1           0       0       0       0       0       0       0       0       0   \n",
       "2           0       0       0       0       0       0       0       0       0   \n",
       "3           0       0       0       0       0       0       0       0       0   \n",
       "4           0       0       0       0       0       0       0       0       0   \n",
       "...       ...     ...     ...     ...     ...     ...     ...     ...     ...   \n",
       "69995       0       0       0       0       0       0       0       0       0   \n",
       "69996       0       0       0       0       0       0       0       0       0   \n",
       "69997       0       0       0       0       0       0       0       0       0   \n",
       "69998       0       0       0       0       0       0       0       0       0   \n",
       "69999       0       0       0       0       0       0       0       0       0   \n",
       "\n",
       "       pixel10  ...  pixel776  pixel777  pixel778  pixel779  pixel780  \\\n",
       "0            0  ...         0         0         0         0         0   \n",
       "1            0  ...         0         0         0         0         0   \n",
       "2            0  ...         0         0         0         0         0   \n",
       "3            0  ...         0         0         0         0         0   \n",
       "4            0  ...         0         0         0         0         0   \n",
       "...        ...  ...       ...       ...       ...       ...       ...   \n",
       "69995        0  ...         0         0         0         0         0   \n",
       "69996        0  ...         0         0         0         0         0   \n",
       "69997        0  ...         0         0         0         0         0   \n",
       "69998        0  ...         0         0         0         0         0   \n",
       "69999        0  ...         0         0         0         0         0   \n",
       "\n",
       "       pixel781  pixel782  pixel783  pixel784  class  \n",
       "0             0         0         0         0      5  \n",
       "1             0         0         0         0      0  \n",
       "2             0         0         0         0      4  \n",
       "3             0         0         0         0      1  \n",
       "4             0         0         0         0      9  \n",
       "...         ...       ...       ...       ...    ...  \n",
       "69995         0         0         0         0      2  \n",
       "69996         0         0         0         0      3  \n",
       "69997         0         0         0         0      4  \n",
       "69998         0         0         0         0      5  \n",
       "69999         0         0         0         0      6  \n",
       "\n",
       "[70000 rows x 785 columns]"
      ]
     },
     "execution_count": 4,
     "metadata": {},
     "output_type": "execute_result"
    }
   ],
   "source": [
    "df_mnist"
   ]
  },
  {
   "cell_type": "markdown",
   "id": "bdb71e57",
   "metadata": {},
   "source": [
    "### <font color='green'/> 3-TO DO:Print the Shape of the data\n",
    "print the shape of the data in the *dataframe* in the cell below"
   ]
  },
  {
   "cell_type": "code",
   "execution_count": 5,
   "id": "df88c090",
   "metadata": {},
   "outputs": [
    {
     "name": "stdout",
     "output_type": "stream",
     "text": [
      "(70000, 785)\n"
     ]
    }
   ],
   "source": [
    "print(df_mnist.shape)"
   ]
  },
  {
   "cell_type": "markdown",
   "id": "9bedf53b",
   "metadata": {},
   "source": [
    "There are 70,000 images and each image has 784 features (each image is 28 x 28 pixels and each pixel represents a feature of an image). Each image of the MNIST dataset is encoded in a 784 dimensional vector, representing a 28 x 28 pixel image. Each pixel has a value between 0 and 255, representing the pixel's intensity, from 0 (white) to 255 (black) corresponding to the grey-value of a pixel.\n",
    "###### <font color='red'/>make sure you understand why the shape is displaying that there are 785 columns!"
   ]
  },
  {
   "cell_type": "markdown",
   "id": "1013d1bb",
   "metadata": {},
   "source": [
    "### <font color='green'/> 4-TO DO: Processing Data\n",
    "In the cell below, use Pandas `loc` to create the feature matrix and column vector. This can be done as follows to create the *feature matrix*:\n",
    "\n",
    "Since the last column in the dataset is the *class* attribute , we need to select all columns except one column in Pandas DataFrame. To do this we can use  `df.loc[:, df.columns != <column name>]` as follows:\n",
    "\n",
    "#### <font color='green'/>  Steps\n",
    "\n",
    "1)  Initialize a variable *col* with column name that you want to exclude.\n",
    "\n",
    "2)  Use `df.loc[:, df.columns != col]` to create another DataFrame excluding a particular column.\n",
    "\n",
    "3) To make sure you have extracted the columns you expect, you can print the DataFrame without `col` column.\n",
    "###### <font color='red'/>WARNING: We need these to be numpy arrays so make sure you convert them during this process. See your labs, etc."
   ]
  },
  {
   "cell_type": "code",
   "execution_count": 6,
   "id": "02009bf5",
   "metadata": {},
   "outputs": [],
   "source": [
    "#create feature matrix and target vector from dataframe\n",
    "X = np.asarray(df_mnist.loc[:, df_mnist.columns != 'class'])\n",
    "y = np.asarray(df_mnist.iloc[:,-1:])"
   ]
  },
  {
   "cell_type": "markdown",
   "id": "2879e99f",
   "metadata": {},
   "source": [
    "### <font color='green'/> 5-TO DO: Simple Data Exploration for Images\n",
    "\n",
    "In the cell below print the following:\n",
    "```python\n",
    "print('This is how X[0] looks when \"flattened\" \\n{}'.format(X[0]))\n",
    "print ('\\nThis is how X[0] looks when \"reshaped\" to image format \\n{}'.format(X[0].reshape(28,28)))\n",
    "print('\\nThis is simply the target vector value that is associated with the image {}'.format(y[0]))\n",
    "```\n",
    "###### <font color='orange'/>You should take a moment and look at the output. Notice which are 1D or 2D arrays and the values they hold"
   ]
  },
  {
   "cell_type": "code",
   "execution_count": 7,
   "id": "57df65fc",
   "metadata": {},
   "outputs": [
    {
     "name": "stdout",
     "output_type": "stream",
     "text": [
      "This is how X[0] looks when \"flattened\" \n",
      "[  0   0   0   0   0   0   0   0   0   0   0   0   0   0   0   0   0   0\n",
      "   0   0   0   0   0   0   0   0   0   0   0   0   0   0   0   0   0   0\n",
      "   0   0   0   0   0   0   0   0   0   0   0   0   0   0   0   0   0   0\n",
      "   0   0   0   0   0   0   0   0   0   0   0   0   0   0   0   0   0   0\n",
      "   0   0   0   0   0   0   0   0   0   0   0   0   0   0   0   0   0   0\n",
      "   0   0   0   0   0   0   0   0   0   0   0   0   0   0   0   0   0   0\n",
      "   0   0   0   0   0   0   0   0   0   0   0   0   0   0   0   0   0   0\n",
      "   0   0   0   0   0   0   0   0   0   0   0   0   0   0   0   0   0   0\n",
      "   0   0   0   0   0   0   0   0   3  18  18  18 126 136 175  26 166 255\n",
      " 247 127   0   0   0   0   0   0   0   0   0   0   0   0  30  36  94 154\n",
      " 170 253 253 253 253 253 225 172 253 242 195  64   0   0   0   0   0   0\n",
      "   0   0   0   0   0  49 238 253 253 253 253 253 253 253 253 251  93  82\n",
      "  82  56  39   0   0   0   0   0   0   0   0   0   0   0   0  18 219 253\n",
      " 253 253 253 253 198 182 247 241   0   0   0   0   0   0   0   0   0   0\n",
      "   0   0   0   0   0   0   0   0  80 156 107 253 253 205  11   0  43 154\n",
      "   0   0   0   0   0   0   0   0   0   0   0   0   0   0   0   0   0   0\n",
      "   0  14   1 154 253  90   0   0   0   0   0   0   0   0   0   0   0   0\n",
      "   0   0   0   0   0   0   0   0   0   0   0   0   0 139 253 190   2   0\n",
      "   0   0   0   0   0   0   0   0   0   0   0   0   0   0   0   0   0   0\n",
      "   0   0   0   0   0  11 190 253  70   0   0   0   0   0   0   0   0   0\n",
      "   0   0   0   0   0   0   0   0   0   0   0   0   0   0   0   0  35 241\n",
      " 225 160 108   1   0   0   0   0   0   0   0   0   0   0   0   0   0   0\n",
      "   0   0   0   0   0   0   0   0   0  81 240 253 253 119  25   0   0   0\n",
      "   0   0   0   0   0   0   0   0   0   0   0   0   0   0   0   0   0   0\n",
      "   0   0  45 186 253 253 150  27   0   0   0   0   0   0   0   0   0   0\n",
      "   0   0   0   0   0   0   0   0   0   0   0   0   0  16  93 252 253 187\n",
      "   0   0   0   0   0   0   0   0   0   0   0   0   0   0   0   0   0   0\n",
      "   0   0   0   0   0   0   0 249 253 249  64   0   0   0   0   0   0   0\n",
      "   0   0   0   0   0   0   0   0   0   0   0   0   0   0  46 130 183 253\n",
      " 253 207   2   0   0   0   0   0   0   0   0   0   0   0   0   0   0   0\n",
      "   0   0   0   0  39 148 229 253 253 253 250 182   0   0   0   0   0   0\n",
      "   0   0   0   0   0   0   0   0   0   0   0   0  24 114 221 253 253 253\n",
      " 253 201  78   0   0   0   0   0   0   0   0   0   0   0   0   0   0   0\n",
      "   0   0  23  66 213 253 253 253 253 198  81   2   0   0   0   0   0   0\n",
      "   0   0   0   0   0   0   0   0   0   0  18 171 219 253 253 253 253 195\n",
      "  80   9   0   0   0   0   0   0   0   0   0   0   0   0   0   0   0   0\n",
      "  55 172 226 253 253 253 253 244 133  11   0   0   0   0   0   0   0   0\n",
      "   0   0   0   0   0   0   0   0   0   0 136 253 253 253 212 135 132  16\n",
      "   0   0   0   0   0   0   0   0   0   0   0   0   0   0   0   0   0   0\n",
      "   0   0   0   0   0   0   0   0   0   0   0   0   0   0   0   0   0   0\n",
      "   0   0   0   0   0   0   0   0   0   0   0   0   0   0   0   0   0   0\n",
      "   0   0   0   0   0   0   0   0   0   0   0   0   0   0   0   0   0   0\n",
      "   0   0   0   0   0   0   0   0   0   0   0   0   0   0   0   0   0   0\n",
      "   0   0   0   0   0   0   0   0   0   0]\n",
      "\n",
      "This is how X[0] looks when \"reshaped\" to image format \n",
      "[[  0   0   0   0   0   0   0   0   0   0   0   0   0   0   0   0   0   0\n",
      "    0   0   0   0   0   0   0   0   0   0]\n",
      " [  0   0   0   0   0   0   0   0   0   0   0   0   0   0   0   0   0   0\n",
      "    0   0   0   0   0   0   0   0   0   0]\n",
      " [  0   0   0   0   0   0   0   0   0   0   0   0   0   0   0   0   0   0\n",
      "    0   0   0   0   0   0   0   0   0   0]\n",
      " [  0   0   0   0   0   0   0   0   0   0   0   0   0   0   0   0   0   0\n",
      "    0   0   0   0   0   0   0   0   0   0]\n",
      " [  0   0   0   0   0   0   0   0   0   0   0   0   0   0   0   0   0   0\n",
      "    0   0   0   0   0   0   0   0   0   0]\n",
      " [  0   0   0   0   0   0   0   0   0   0   0   0   3  18  18  18 126 136\n",
      "  175  26 166 255 247 127   0   0   0   0]\n",
      " [  0   0   0   0   0   0   0   0  30  36  94 154 170 253 253 253 253 253\n",
      "  225 172 253 242 195  64   0   0   0   0]\n",
      " [  0   0   0   0   0   0   0  49 238 253 253 253 253 253 253 253 253 251\n",
      "   93  82  82  56  39   0   0   0   0   0]\n",
      " [  0   0   0   0   0   0   0  18 219 253 253 253 253 253 198 182 247 241\n",
      "    0   0   0   0   0   0   0   0   0   0]\n",
      " [  0   0   0   0   0   0   0   0  80 156 107 253 253 205  11   0  43 154\n",
      "    0   0   0   0   0   0   0   0   0   0]\n",
      " [  0   0   0   0   0   0   0   0   0  14   1 154 253  90   0   0   0   0\n",
      "    0   0   0   0   0   0   0   0   0   0]\n",
      " [  0   0   0   0   0   0   0   0   0   0   0 139 253 190   2   0   0   0\n",
      "    0   0   0   0   0   0   0   0   0   0]\n",
      " [  0   0   0   0   0   0   0   0   0   0   0  11 190 253  70   0   0   0\n",
      "    0   0   0   0   0   0   0   0   0   0]\n",
      " [  0   0   0   0   0   0   0   0   0   0   0   0  35 241 225 160 108   1\n",
      "    0   0   0   0   0   0   0   0   0   0]\n",
      " [  0   0   0   0   0   0   0   0   0   0   0   0   0  81 240 253 253 119\n",
      "   25   0   0   0   0   0   0   0   0   0]\n",
      " [  0   0   0   0   0   0   0   0   0   0   0   0   0   0  45 186 253 253\n",
      "  150  27   0   0   0   0   0   0   0   0]\n",
      " [  0   0   0   0   0   0   0   0   0   0   0   0   0   0   0  16  93 252\n",
      "  253 187   0   0   0   0   0   0   0   0]\n",
      " [  0   0   0   0   0   0   0   0   0   0   0   0   0   0   0   0   0 249\n",
      "  253 249  64   0   0   0   0   0   0   0]\n",
      " [  0   0   0   0   0   0   0   0   0   0   0   0   0   0  46 130 183 253\n",
      "  253 207   2   0   0   0   0   0   0   0]\n",
      " [  0   0   0   0   0   0   0   0   0   0   0   0  39 148 229 253 253 253\n",
      "  250 182   0   0   0   0   0   0   0   0]\n",
      " [  0   0   0   0   0   0   0   0   0   0  24 114 221 253 253 253 253 201\n",
      "   78   0   0   0   0   0   0   0   0   0]\n",
      " [  0   0   0   0   0   0   0   0  23  66 213 253 253 253 253 198  81   2\n",
      "    0   0   0   0   0   0   0   0   0   0]\n",
      " [  0   0   0   0   0   0  18 171 219 253 253 253 253 195  80   9   0   0\n",
      "    0   0   0   0   0   0   0   0   0   0]\n",
      " [  0   0   0   0  55 172 226 253 253 253 253 244 133  11   0   0   0   0\n",
      "    0   0   0   0   0   0   0   0   0   0]\n",
      " [  0   0   0   0 136 253 253 253 212 135 132  16   0   0   0   0   0   0\n",
      "    0   0   0   0   0   0   0   0   0   0]\n",
      " [  0   0   0   0   0   0   0   0   0   0   0   0   0   0   0   0   0   0\n",
      "    0   0   0   0   0   0   0   0   0   0]\n",
      " [  0   0   0   0   0   0   0   0   0   0   0   0   0   0   0   0   0   0\n",
      "    0   0   0   0   0   0   0   0   0   0]\n",
      " [  0   0   0   0   0   0   0   0   0   0   0   0   0   0   0   0   0   0\n",
      "    0   0   0   0   0   0   0   0   0   0]]\n",
      "\n",
      "This is simply the target vector value that is associated with the image [5]\n"
     ]
    }
   ],
   "source": [
    "print('This is how X[0] looks when \"flattened\" \\n{}'.format(X[0]))\n",
    "print ('\\nThis is how X[0] looks when \"reshaped\" to image format \\n{}'.format(X[0].reshape(28,28)))\n",
    "print('\\nThis is simply the target vector value that is associated with the image {}'.format(y[0]))"
   ]
  },
  {
   "cell_type": "markdown",
   "id": "c565b275",
   "metadata": {},
   "source": [
    "###  <font color='green'/> 6-TO DO:Create a subset of the digits data using only the *zeroes and ones* \n",
    "\n",
    "<font color='red'/>COMMENT: I have done this part for you but you should make sure you understand what the code does and how the subset of images is being created from the larger dataset. DO NOT ALTER THIS CODE UNLESS YOU ARE ASKED TO. **YOU MUST USE THE VARIABLE NAMES GIVEN!**"
   ]
  },
  {
   "cell_type": "code",
   "execution_count": 8,
   "id": "02f6718d",
   "metadata": {},
   "outputs": [],
   "source": [
    "zero_one_indices = np.sort(np.concatenate((np.where(y == 0)[0], np.where(y == 1)[0])))"
   ]
  },
  {
   "cell_type": "code",
   "execution_count": 9,
   "id": "588ea754",
   "metadata": {},
   "outputs": [
    {
     "data": {
      "text/plain": [
       "(14780, 1)"
      ]
     },
     "execution_count": 9,
     "metadata": {},
     "output_type": "execute_result"
    }
   ],
   "source": [
    "zero_one_images = X[zero_one_indices] \n",
    "zero_one_labels = y[zero_one_indices]\n",
    "zero_one_labels.shape"
   ]
  },
  {
   "cell_type": "markdown",
   "id": "ecc898a7",
   "metadata": {},
   "source": [
    "### <font color='green'/>7- TO DO:  display an image\n",
    "Display the image with index = 11"
   ]
  },
  {
   "cell_type": "code",
   "execution_count": 10,
   "id": "0c4e813e",
   "metadata": {},
   "outputs": [
    {
     "data": {
      "text/plain": [
       "<matplotlib.image.AxesImage at 0x1b096f22810>"
      ]
     },
     "execution_count": 10,
     "metadata": {},
     "output_type": "execute_result"
    },
    {
     "data": {
      "image/png": "[encoded data removed]",
      "text/plain": [
       "<Figure size 640x480 with 1 Axes>"
      ]
     },
     "metadata": {},
     "output_type": "display_data"
    }
   ],
   "source": [
    "i = 11\n",
    "plt.imshow(X[i].reshape(28,28))"
   ]
  },
  {
   "cell_type": "markdown",
   "id": "2db60d99",
   "metadata": {},
   "source": [
    "### <font color='green'/>8- TO DO Is the Training Dataset Balanced?\n",
    "#### <font color='blue'/> Data Visualization\n",
    "Plot a histogram (**bar chart!**) of the dataset *class labels* to make sure we have a balanaced dataset, i.e.we want to figure out how often each number is represented in the dataset. This is important when we are trying to eliminate **algorithmic bias** in our machine learning models. <font color='red'/>WARNING: Your code should be general and should be able to plot *any* two digits selected as the subset."
   ]
  },
  {
   "cell_type": "code",
   "execution_count": 11,
   "id": "21c5c1fa",
   "metadata": {},
   "outputs": [
    {
     "data": {
      "text/plain": [
       "([<matplotlib.axis.XTick at 0x1b0b7323090>,\n",
       "  <matplotlib.axis.XTick at 0x1b0b7320cd0>],\n",
       " [Text(0, 0, '1'), Text(1, 0, '2')])"
      ]
     },
     "execution_count": 11,
     "metadata": {},
     "output_type": "execute_result"
    },
    {
     "data": {
      "image/png": "[encoded data removed]",
      "text/plain": [
       "<Figure size 640x480 with 1 Axes>"
      ]
     },
     "metadata": {},
     "output_type": "display_data"
    }
   ],
   "source": [
    "y1 = y.flatten()\n",
    "\n",
    "digits = [1,2]  # Modify this list to select different digits\n",
    "\n",
    "# Count occurrences of each digit\n",
    "counts = np.bincount(y1)\n",
    "\n",
    "# Plot\n",
    "plt.bar(np.arange(len(digits)), counts[digits])\n",
    "plt.xticks(np.arange(len(digits)), digits)"
   ]
  },
  {
   "cell_type": "markdown",
   "id": "7b5dd645",
   "metadata": {},
   "source": [
    "### <font color='green'/>9-TO DO:Split the data into Training and Testing Sets\n",
    "Scikit learn contains a function called the **train_test_split** function  that will randomly shuffle the dataset and then splits it into two datasets: a **training set** used to build the model and a **test set** to assess and evaluate how well the model works on unseen data. **Use a 75%/25% train-test split**. \n",
    "<br><br><font color='red'/>You should also use `shuffle=True` and `random_state=0` in your split."
   ]
  },
  {
   "cell_type": "code",
   "execution_count": 12,
   "id": "0d83fa0b",
   "metadata": {},
   "outputs": [],
   "source": [
    "from  sklearn.model_selection import train_test_split\n",
    "X_train, X_test, y_train, y_test = train_test_split(X, y, test_size=0.25, random_state=0, shuffle=True)\n",
    "\n",
    "#y_train = y_train.flatten()\n",
    "#y_test = y_test.flatten()"
   ]
  },
  {
   "cell_type": "markdown",
   "id": "f1f94690",
   "metadata": {},
   "source": [
    "### <font color='green'/> 10- TO DO:Look at the *shape* of the data (rows and columns) *after* splitting it into training and testing sets\n",
    "**Enter your code in the next TWO cells below**"
   ]
  },
  {
   "cell_type": "code",
   "execution_count": 13,
   "id": "d33b1742",
   "metadata": {},
   "outputs": [
    {
     "name": "stdout",
     "output_type": "stream",
     "text": [
      "X_train Shape of the data : (52500, 784)\n",
      "y_train Shape of the data : (52500, 1)\n"
     ]
    }
   ],
   "source": [
    "print('X_train Shape of the data : {}'.format(X_train.shape))\n",
    "print('y_train Shape of the data : {}'.format(y_train.shape))"
   ]
  },
  {
   "cell_type": "code",
   "execution_count": 14,
   "id": "6105645c",
   "metadata": {},
   "outputs": [
    {
     "name": "stdout",
     "output_type": "stream",
     "text": [
      "X_test Shape of the data : (17500, 784)\n",
      "y_test Shape of the data : (17500, 1)\n"
     ]
    }
   ],
   "source": [
    "print('X_test Shape of the data : {}'.format(X_test.shape))\n",
    "print('y_test Shape of the data : {}'.format(y_test.shape))"
   ]
  },
  {
   "cell_type": "markdown",
   "id": "c8ab7455",
   "metadata": {},
   "source": [
    "### <font color='green'>11- TO DO: Code to plot several images</font>\n",
    "<font color='red'/>COMMENT: I have done this part for you. I have created it as a pyton callable function since we will need to use it later. You should make sure you understand what the code does and how the subset of images is being plotted"
   ]
  },
  {
   "cell_type": "code",
   "execution_count": 15,
   "id": "8bc71f0e",
   "metadata": {},
   "outputs": [],
   "source": [
    "def plot_example(X, y):\n",
    "    \"\"\"Plot the first 5 images and their labels in a row.\"\"\"\n",
    "    plt.subplots(figsize=(9, 4))\n",
    "    for i, (img, y) in enumerate(zip(X[:5].reshape(5, 28, 28), y[:5])):\n",
    "        #subplot five images on one row\n",
    "        plt.subplot(1, 5, i+1) \n",
    "        plt.imshow(img)\n",
    "        plt.xticks([])\n",
    "        plt.yticks([])\n",
    "        plt.title(y)\n",
    "    plt.show()"
   ]
  },
  {
   "cell_type": "markdown",
   "id": "26a45be8",
   "metadata": {},
   "source": [
    "call the function to plot a subset of images in the training set"
   ]
  },
  {
   "cell_type": "code",
   "execution_count": 16,
   "id": "d11245a2",
   "metadata": {},
   "outputs": [
    {
     "data": {
      "image/png": "[encoded data removed]",
      "text/plain": [
       "<Figure size 900x400 with 5 Axes>"
      ]
     },
     "metadata": {},
     "output_type": "display_data"
    }
   ],
   "source": [
    "plot_example(X_train, y_train)"
   ]
  },
  {
   "cell_type": "markdown",
   "id": "13f19645",
   "metadata": {},
   "source": [
    "### <font color='blue'/> Scaling the features of a dataset \n",
    "\n",
    "<h4 style=\"text-align:left; color:red\";>IMPORTANT: Standardizing the features:</h4>\n",
    "\n",
    "* There are two common approaches to bring different features onto the same scale: **normalization** and **standardization**.  Most often, normalization refers to the rescaling of the features to a range of [0, 1], which is a special case of min-max scaling. To normalize our data, we can simply apply the min-max scaling to each feature column.\n",
    "\n",
    "* Standardization of datasets (feature scaling) is a common requirement for many machine learning and optimization algorithms implemented in scikit-learn; they might behave badly if the individual features do not more or less look like standard normally distributed data, i.e., Gaussian with zero mean and unit variance.\n",
    "\n",
    "### <font color='green'/>12-TO DO: Scale or Noramlize the Data\n",
    "##### Use the scikit-learn  StandardScaler (MinMaxScaler) to scale (normalize) the training and testing datasets\n",
    "#### <font  color='red'/>NOTE: Create a decision structure which uses either the MinMaxScaler or the StandardScaler depending on the value of a boolean variable for normalizing or scaling the data. **SET YOUR BOOLEAN SO THAT IT STARTS WITH THE STANDARD SCALER**."
   ]
  },
  {
   "cell_type": "code",
   "execution_count": null,
   "id": "9cf7a37d",
   "metadata": {},
   "outputs": [],
   "source": [
    "X.max(), X.min()\n",
    "\n",
    "X = X/255.0\n",
    "X.max(), X.min()"
   ]
  },
  {
   "cell_type": "markdown",
   "id": "9df5a2bc",
   "metadata": {},
   "source": [
    "### <font color='green'/>13-TO DO: Build Adaptive Linear Neuron Model\n",
    "#### Instantiate the AdalineGD class train the model on the data. Use the following variable names and range of parameters:\n",
    "\n",
    "#### The Model using the Adaline Classifier:\n",
    "\n",
    "- model name  = ada\n",
    "- n_iter = you choose: must be in range 100 to 1000\n",
    "- eta = you choose: must be in range, 1.0e-4 to 1.0e-8\n",
    "- random_state = 1\n",
    "\n",
    "You can use the default values for the rest of the parameters. <font color='red'/>Your model MUST converge with accuracy > 97%"
   ]
  },
  {
   "cell_type": "code",
   "execution_count": null,
   "id": "ec1b497e",
   "metadata": {},
   "outputs": [],
   "source": [
    "# Instantiate AdalineGD class\n",
    "ada = AdalineGD(n_iter=101, eta=1.0e-6, random_state=1) \n",
    "\n",
    "# Train the model on the data\n",
    "ada.fit(X_train, y_train)"
   ]
  },
  {
   "cell_type": "markdown",
   "id": "1488ddec",
   "metadata": {},
   "source": [
    "### <font color='green'/>14-TO DO: Plot the cost function versus the number of epochs\n",
    "Plot the cost function vs. the epochs (you may need to slightly modify some previous plotting code). Use appropriate labels for the axes and title. The title should say the name of the model and the learning rate being used. **Save the generated figure with the name *adaline.png***  "
   ]
  },
  {
   "cell_type": "code",
   "execution_count": null,
   "id": "691143df",
   "metadata": {},
   "outputs": [],
   "source": []
  },
  {
   "cell_type": "markdown",
   "id": "fc4817b1",
   "metadata": {},
   "source": [
    "### <font color='green'/> 15-TO DO:Model Evaluation and Performance\n",
    "\n",
    "Use the test set to create the model's predictions. Name the prediction vector **y_pred** as in previous notebooks. Make sure you display the predictions in the **y_pred** vector. Also, print the **true labels** so we can visually compare the two vectors.\n",
    "\n",
    "**Enter your code in the cell below:**\n",
    "\n"
   ]
  },
  {
   "cell_type": "code",
   "execution_count": null,
   "id": "6463541b",
   "metadata": {},
   "outputs": [],
   "source": []
  },
  {
   "cell_type": "markdown",
   "id": "df7b808b",
   "metadata": {},
   "source": [
    "### <font color='green'/> 16-TO DO:Predict the label for a single image"
   ]
  },
  {
   "cell_type": "markdown",
   "id": "9f0de492",
   "metadata": {},
   "source": [
    "Use class Adaline's built-in *predict method* to test the model's predictive performance for the *second* image in X_test_std. **Display the image, the predicted label and the true label**\n",
    "\n",
    "**Enter your code in the next two cells below:**"
   ]
  },
  {
   "cell_type": "code",
   "execution_count": null,
   "id": "ace55ae3",
   "metadata": {},
   "outputs": [],
   "source": [
    "#code for prediction (COMPLETE SENTENCES!)"
   ]
  },
  {
   "cell_type": "code",
   "execution_count": null,
   "id": "925c8a72",
   "metadata": {},
   "outputs": [],
   "source": [
    "#code to display predicted image"
   ]
  },
  {
   "cell_type": "markdown",
   "id": "75601142",
   "metadata": {},
   "source": [
    "### <font color='green'/>17-TO DO:Print the number of misclassifications using numpy "
   ]
  },
  {
   "cell_type": "code",
   "execution_count": null,
   "id": "de35c702",
   "metadata": {},
   "outputs": [],
   "source": []
  },
  {
   "cell_type": "markdown",
   "id": "596b125c",
   "metadata": {},
   "source": [
    "### <font color='green'/> 18-TO DO:Plot some misclassified images\n",
    "Write code for a simple decision structure such that if the misclassifications exceed five, then plot five(5) images of some of the predictions that **went wrong**. Do not rewrite the plotting code or ANY plotting code here except a call to the plotting code given in step 11. AGAIN, you MUST use the plotting code defined earlier. HINT: create an error filter using the numpy code for misclassifications and use that expression to call the plotting function."
   ]
  },
  {
   "cell_type": "markdown",
   "id": "3c6395ac",
   "metadata": {},
   "source": [
    "```python\n",
    "#create array of true-false values\n",
    "values=[True, True, False,True, False ]\n",
    "#operate on it with np.where\n",
    "np.where(np.array(values))\n",
    "# note that this returns the indices of the True values\n",
    "#print(np.where(np.array(values)))\n",
    "\n",
    "# now look at this comparrison of operations\n",
    "np.where(np.array(values))[0] == np.array(values).nonzero()[0]\n",
    "\n",
    "# now look at this comparrison of operations\n",
    "np.where(np.array(values))[0] == np.array(values).nonzero()[0]\n",
    "\n",
    "```\n",
    "Note that these two comparisons are True! We know that `np.array(values).nonzero()` returns only values that are non-zero (True). This means that `np.where(np.array(values)` *does the same thing* as `np.array(values).nonzero()`! One takeaway is that since  `np.where(np.array(values)` has to return something  when *it* is true from the *values* that are fed into it, it rerutns the *index* of the value when the value is true. We can use this and the indices as a *filter* or *mask*"
   ]
  },
  {
   "cell_type": "code",
   "execution_count": null,
   "id": "e0b3ce54",
   "metadata": {},
   "outputs": [],
   "source": [
    "# code below for five images of misclassifications \n"
   ]
  },
  {
   "cell_type": "markdown",
   "id": "7ab66645",
   "metadata": {},
   "source": [
    "### <font color='green'/> 19-TO DO: Show the *Classification Report* for the`ada` Classification Model"
   ]
  },
  {
   "cell_type": "code",
   "execution_count": null,
   "id": "72ea0ad1",
   "metadata": {},
   "outputs": [],
   "source": []
  },
  {
   "cell_type": "markdown",
   "id": "cbe1404c",
   "metadata": {},
   "source": [
    "### <font color='green'/>20-TO DO: Display the *Pretty Confusion Matrix*  for the`ada` Classification Model\n",
    "<font color='red'/>NOTE: You have to provide the class labels here.Think!"
   ]
  },
  {
   "cell_type": "markdown",
   "id": "54f1aed0",
   "metadata": {},
   "source": [
    "## <font color='orange'/>Questions"
   ]
  },
  {
   "cell_type": "markdown",
   "id": "f498e0e7",
   "metadata": {},
   "source": [
    "### <font color='green'/> Q1 (4 points): Using the MinMaxScaler\n",
    "\n",
    "Before you begin, enter the values from the run above where you used the `StandardScaler`. Then run the identical code *only changing to the `MinMaxScaler` for scaling the data*. <font color='red'>  If your model using `MinMaxScaler`  does not achieve an accuracury > 75% OR if it diverges, then tweak the parameters until you get > 75% accuracy.</font> Enter your results below:\n",
    "\n",
    "- misclassifications using StandarScaler = ??\n",
    "\n",
    "- misclassifications using MinMaxScaler = ??\n",
    "\n",
    "<font color='red'/> NOTE: After this question, replace the `MinMaxScaler` code with the `StandardScaler` code and use `StandardScaler` for the rest of the project. **RE-RUN YOUR CODE USING THE STANDARD SCALER.**."
   ]
  },
  {
   "cell_type": "markdown",
   "id": "cce54f7c",
   "metadata": {},
   "source": [
    "### <font color='green'/> Q2 (10 points): Adding an accuracy score method to your Adaline class (accuracy > 97%)\n",
    "Using **only** numpy (and of course python), modify (enhance) the class Adaline to give it a *built-in* method to return the accuracy of the trained classification mode. Your method **must** behave like scikit-learn's scoring method. That is, a user should be able to call it with code like: `ada.score(X_test_std, y_test)`. After you have modified your code, demonstrate it by calling the method with a print statement in the cell below. Record a copy of your instantiated model (showing parameters you used) in the **markdown** cell below:"
   ]
  },
  {
   "cell_type": "markdown",
   "id": "945a2157",
   "metadata": {},
   "source": [
    "<font color='blue'/> Your markdown here"
   ]
  },
  {
   "cell_type": "markdown",
   "id": "8779bb65",
   "metadata": {},
   "source": [
    "<font color='green'/>Copy and paste ONLY your model here (adaline StandarScaler model MUST have accuracy > 97% ):\n",
    "\n",
    "<font color='green'/>Copy and paste ONLY your model here (adaline MinMaxScaler model MUST have accuracy > 75% ):\n",
    "\n",
    "> adaline model with best performance: "
   ]
  },
  {
   "cell_type": "markdown",
   "id": "7f6d3ced",
   "metadata": {},
   "source": [
    "### <font color='green'/>Q3 (10 points)  Carefully enter the code for the Generative AI Perceptron Classification Model \n",
    "In **one** cell below, copy and enter the code from the image above to build and use to classifiy the subset of the data with the 0, 1 subset of images you used in this exam. Print the accuracy, misclassifications and the confusion matrix.\n",
    "\n",
    "<font color='red'/>Instantiate the GenAI perceptron model with thes parameters: ` learning_rate=0.0003`, `epochs = 100`, \n",
    "\n",
    "```python\n",
    "#### Example usage:\n",
    "ppnGenAI = PerceptronGenAI(input_size=X_train_std.shape[1])\n",
    "ppnGenAI.fit(X_train_std, y_train, learning_rate=0.0003, epochs=100)\n",
    "```\n",
    "## <font color = 'orange'/>class PerceptronGenAI: A GenAI Sigmoid Perceptrom model with Gradient Descent\n",
    "\n",
    "#### <font color='blue'/>Make sure you examine and undersatnd every line of code in the PerceptronGenAI  class after you enter it below"
   ]
  },
  {
   "cell_type": "markdown",
   "id": "022960c9",
   "metadata": {},
   "source": [
    "<img src=\"images/class_PerceptronGenAI.svg\" width = 600; >"
   ]
  },
  {
   "cell_type": "code",
   "execution_count": null,
   "id": "8053d2c5",
   "metadata": {},
   "outputs": [],
   "source": []
  },
  {
   "cell_type": "markdown",
   "id": "7f4dfc9e",
   "metadata": {},
   "source": [
    "\n",
    "<b><font color = 'orange'/> In this GenAI code:\n",
    "\n",
    "- The `sigmoid_derivative` method calculates the derivative of the sigmoid function, which is used in the gradient descent update rule.\n",
    "- In the `fit` method, the gradient descent update rule is applied to adjust the weights and bias based on the error multiplied by the derivative of the sigmoid function.\n",
    "- The learning rate controls the step size in the direction of the steepest descent in the error surface, and the number of epochs determines the number of iterations over the entire dataset for training.\n",
    "    \n",
    "<font color='red'/>Instantiate the GenAI perceptron model with these parameters: ` learning_rate=0.0003`, `epochs = 100`, \n",
    "\n",
    "```python\n",
    "#Example usage:\n",
    "ppnGenAI = PerceptronGenAI(input_size=X_train_std.shape[1])\n",
    "ppnGenAI.fit(X_train_std, y_train, learning_rate=0.0003, epochs=100)\n",
    "```"
   ]
  },
  {
   "cell_type": "code",
   "execution_count": null,
   "id": "74e14cd9",
   "metadata": {},
   "outputs": [],
   "source": [
    "# Example usage:\n",
    "\n",
    "\n",
    "\n",
    "\n",
    "# Test the trained GenAI perceptron\n",
    "for i in range(len(X_test_std)):\n",
    "    print(f\"Input: {y_test[i]}, Predicted Output: {ppnGenAI.predict(X_test_std[i]).round()}\")"
   ]
  },
  {
   "cell_type": "markdown",
   "id": "dbfc3371",
   "metadata": {},
   "source": [
    "## <font color='red'/>IMPORTANT:\n",
    "\n",
    "<font color='red-orange'>You will note that because we are usinng the sigmoid function in out GenAI perceptron, its output is a real number and NOT an integer. This means you MUST `round` the results!  This will be important whenever you call the `predict`method </font>"
   ]
  },
  {
   "cell_type": "markdown",
   "id": "15394a82",
   "metadata": {},
   "source": [
    "### <font color='green'/> Q4 (5 points): Add an accuracy score method to your `GenAI` class\n",
    "Using **only** numpy (and of course python), modify (enhance) the class PerceptronGenAI to give it a *built-in* method to return the accuracy of the trained classification model. Your method **must** behave like scikit-learn's scoring method. That is, a user should be able to call it with code like: `ppnGenAI.score(X_test_std, y_test)`. After you have modified your code, demonstrate it by calling the method with a print statement in the cell below."
   ]
  },
  {
   "cell_type": "code",
   "execution_count": null,
   "id": "1c72787c",
   "metadata": {},
   "outputs": [],
   "source": []
  },
  {
   "cell_type": "markdown",
   "id": "eae5fe01",
   "metadata": {},
   "source": [
    "### <font color='green'/> Q5 (5 points): Compute and display the misclassifications of the `GenAI` model"
   ]
  },
  {
   "cell_type": "code",
   "execution_count": null,
   "id": "c8058ef6",
   "metadata": {},
   "outputs": [],
   "source": []
  },
  {
   "cell_type": "markdown",
   "id": "4c5f3daf",
   "metadata": {},
   "source": [
    "### <font color='green'/>Q6 (4 points) Display the Confusion Matrix for the  Generative AI  Classification Model in Q5\n",
    "Enter your code in **one** cell below: <font color='red'/><font color='red'/>WARNING:  use the GenAI name from Q3 for nameing  the prediction vector in this part to avoid future conflicts, i.e. use the name `y_pred_ppnGenAI`"
   ]
  },
  {
   "cell_type": "code",
   "execution_count": null,
   "id": "8cea10c6",
   "metadata": {},
   "outputs": [],
   "source": []
  },
  {
   "cell_type": "markdown",
   "id": "5128334d",
   "metadata": {},
   "source": [
    "<center>\n",
    "    \n",
    "## <font color='orange'/>Statistics for Evaluating the Performance of Machine Learning Models</h1>\n",
    "\n",
    "</center>\n",
    "\n",
    "We can compare two supervised machine learning models using the same training dataset by applying the classical hypothesis testing paradigm. Our measure of model performance is the test-set error rate. Below, we state the problem in the form of a *null hypothesis*.\n",
    "\n",
    ">There is no significant difference in the test set error rate of two supervised machine learning models, $M_1$ and $M_2$, built with the same training dataset.\n",
    "\n",
    "Although there are several possible test set scenarios we can use, we will take the approach that allows us to compare performance between models when:\n",
    "- *the **same** test dataset is used to compare the models, and*\n",
    "- *the comparison is is based on the overall classification correctness of the models.* \n",
    "\n",
    "While this is a simple approach, it would perhaps be more straightforward to compare model performance using **two independent testing datasets selected randomly from a a pool of sample data.** However, this approach is feasible only if there is a large supply of data available from which random test sets can be extracted. Thus, when smaller-sized datasets are all we have to work with, a single test set used on both models is probably the only possibility.\n",
    "\n",
    "\n",
    "### Comparing Models with Independent Test Data\n",
    "The simpler approach that we will take is to use a technique that compares the overall classification correctness of the models. *It shoud be noted that this method is equally valid whether we have two independent test datasets or only a single dataset to use with both models.* \n",
    "\n",
    "The most general form of the statistic for comparing the performnce of two classifier modesl  $M_1$ and $M_2$ is\n",
    "\n",
    "\\begin{eqnarray}\n",
    " P= \\frac{|E_{1} - E_{2}|}{\\sqrt{q(1-q)(1/n_{1} + 1/n_{2} )}} \n",
    "\\end{eqnarray}\n",
    "\n",
    "\n",
    "<div style=\"width:400px; margin:2px\">\n",
    "  \n",
    "    \n",
    "| **where:** |  |  |\n",
    "|:------|:------|:-----|\n",
    "$E_1$| is the error rate for model $M_1$| |\n",
    "|$E_2$|is the error rate for model $M_2$| |\n",
    "|$ q $| = $\\frac{(E_1 + E_2)}{2}$ is the error rate average||\n",
    "|$n_1$|is the number of instances in test set A||\n",
    "|$n_2$|is the number of instances in test set B||\n",
    "\n",
    "</div>\n",
    "<p>You should note that $q(1-q)$ is the variance score computed using the <b>average</b> of the two error rates. When we have a <em>single</em> test set of size $n$ that we use for both models, then the formula simplifies to:</p>\n",
    "\n",
    "\n",
    "\\begin{eqnarray}\n",
    " P= \\frac{|E_{1} - E_{2}|}{\\sqrt{q(1-q)(2/n )}} \n",
    "\\end{eqnarray}\n",
    "\n",
    "\n",
    "With either of the above equations, if, for the value of $P$ we find $P$ $\\geq$ 2, then we can be 95% confident that the difference in the test set performance is statistically significant. \n",
    "\n",
    "In this project, we shall use this simplified version of the relation since we only have one test dataset for both models."
   ]
  },
  {
   "cell_type": "markdown",
   "id": "a71782ce",
   "metadata": {},
   "source": [
    "### <font color='green'/>Q7 (10 points) Comparing the Performance of two Supervised Classification Models"
   ]
  },
  {
   "cell_type": "markdown",
   "id": "d316b228",
   "metadata": {},
   "source": [
    "### Model Performance Comparison of two Classifiers\n",
    "\n",
    "Using the **ada model** (with accuracy>90%) and the **GenAI perceptron model** (with accuracy>97%) in **Q3**, compare the performance of the models using the above statistic when we only have one test set. To do this you need to calculate (**and print**)  in each cell below, the following <font color='red'/>COMMENT: Your code must be general. you MUST use the varible names given below!:"
   ]
  },
  {
   "cell_type": "markdown",
   "id": "593a72ef",
   "metadata": {},
   "source": [
    "$E_1$ : the error rate for model $M_1$, your Adaline Model\n",
    "\n",
    "**Enter your code below:**"
   ]
  },
  {
   "cell_type": "code",
   "execution_count": null,
   "id": "330f82b7",
   "metadata": {},
   "outputs": [],
   "source": []
  },
  {
   "cell_type": "markdown",
   "id": "60e5d784",
   "metadata": {},
   "source": [
    "$E_2$ is the error rate for model $M_2$, your Scikit-Learn Perceptron Model\n",
    "\n",
    "**Enter your code below:**"
   ]
  },
  {
   "cell_type": "code",
   "execution_count": null,
   "id": "395ac464",
   "metadata": {},
   "outputs": [],
   "source": []
  },
  {
   "cell_type": "markdown",
   "id": "c68673d8",
   "metadata": {},
   "source": [
    "$ q $ = $\\frac{(E_1 + E_2)}{2}$ ,  the error rate average\n",
    "\n",
    "**Enter your code below:**"
   ]
  },
  {
   "cell_type": "code",
   "execution_count": null,
   "id": "2397389a",
   "metadata": {},
   "outputs": [],
   "source": []
  },
  {
   "cell_type": "markdown",
   "id": "b6d6151f",
   "metadata": {},
   "source": [
    "$n_1$, the number of instances in test set A\n",
    "\n",
    "**Enter your code below:**"
   ]
  },
  {
   "cell_type": "code",
   "execution_count": null,
   "id": "82a83889",
   "metadata": {},
   "outputs": [],
   "source": []
  },
  {
   "cell_type": "markdown",
   "id": "f825e9df",
   "metadata": {},
   "source": [
    "$n_2$,  the number of instances in test set B\n",
    "\n",
    "**Enter your code below:**"
   ]
  },
  {
   "cell_type": "code",
   "execution_count": null,
   "id": "a02806f4",
   "metadata": {},
   "outputs": [],
   "source": []
  },
  {
   "cell_type": "markdown",
   "id": "0d18ae04",
   "metadata": {},
   "source": [
    "#### Using Python, write a simple decision construct to compute and display $P$, depending on whether  $P$ $\\geq$ 2. Use a complete sentence in your output.\n",
    "\n",
    "**Enter your code below:**"
   ]
  },
  {
   "cell_type": "code",
   "execution_count": null,
   "id": "7c304f0d",
   "metadata": {},
   "outputs": [],
   "source": []
  },
  {
   "cell_type": "markdown",
   "id": "8e830483",
   "metadata": {},
   "source": [
    "###### <font color='purple'/>Give a brief comparative summary of the two models and your analysis in the cell below. (Keep it short! 2-4 sentences!)"
   ]
  },
  {
   "cell_type": "markdown",
   "id": "61c7fa36",
   "metadata": {},
   "source": []
  },
  {
   "cell_type": "markdown",
   "id": "27e0328c",
   "metadata": {},
   "source": [
    "### <font color='green'/>Q8 (6 points) Model Persistence - Save/Load the trained classifier"
   ]
  },
  {
   "cell_type": "markdown",
   "id": "e9ef8caf",
   "metadata": {},
   "source": [
    "### <font color='orange'> Pickle (serialize) and save the trained *adaline* classifier to a folder. \n",
    "Enter your code in the cell below."
   ]
  },
  {
   "cell_type": "code",
   "execution_count": null,
   "id": "ce8866c2",
   "metadata": {},
   "outputs": [],
   "source": []
  },
  {
   "cell_type": "markdown",
   "id": "dce8535d",
   "metadata": {},
   "source": [
    "### <font color='orange'> Load the saved trained classifier into memory\n",
    "Enter your code in the cell below."
   ]
  },
  {
   "cell_type": "code",
   "execution_count": null,
   "id": "fd397719",
   "metadata": {},
   "outputs": [],
   "source": []
  },
  {
   "cell_type": "markdown",
   "id": "ed7f32d7",
   "metadata": {},
   "source": [
    "### <font color='orange'> Test the re-loaded classifier\n",
    "Use the re-loaded classifier to classify an image and compare its classification to the true value.  Use an image from the normalized test set with <font color='red'>index = 25</font>. Use complete sentences in the output for the classifier's prediction such as \"The reloaded classifier predicts the image is number __\".\n",
    "    \n",
    "Enter your code in the cell below."
   ]
  },
  {
   "cell_type": "markdown",
   "id": "5a9f28c9",
   "metadata": {},
   "source": [
    "### <font color='green'/>Q9 (6 points) Predictions with images (from Adaline)\n",
    "Use your prediction vector, y_pred, **from ada (when accuracy > 97%)** to display the first twelve(12) images and the predictions. Display these on 3 rows with 4 images per row ."
   ]
  },
  {
   "cell_type": "code",
   "execution_count": null,
   "id": "a7c74551",
   "metadata": {},
   "outputs": [],
   "source": []
  },
  {
   "cell_type": "markdown",
   "id": "544f44e5",
   "metadata": {},
   "source": [
    "### <font color='green'/>Q10 (6 points) Predictions with images (from GenAI)\n",
    "Use your prediction vector, y_pred, **from GenAI (when accuracy > 97%)** to display the first twelve images and the predictions. Display this on 3 rows with 4 images per row ."
   ]
  },
  {
   "cell_type": "markdown",
   "id": "8d561eb3",
   "metadata": {},
   "source": [
    "<center>\n",
    "    \n",
    "# <font color='red'/>End of Exam!\n",
    "    \n",
    "</center>"
   ]
  },
  {
   "cell_type": "code",
   "execution_count": null,
   "id": "3d95a51d",
   "metadata": {},
   "outputs": [],
   "source": []
  }
 ],
 "metadata": {
  "kernelspec": {
   "display_name": "Python 3 (ipykernel)",
   "language": "python",
   "name": "python3"
  },
  "language_info": {
   "codemirror_mode": {
    "name": "ipython",
    "version": 3
   },
   "file_extension": ".py",
   "mimetype": "text/x-python",
   "name": "python",
   "nbconvert_exporter": "python",
   "pygments_lexer": "ipython3",
   "version": "3.11.5"
  }
 },
 "nbformat": 4,
 "nbformat_minor": 5
}
